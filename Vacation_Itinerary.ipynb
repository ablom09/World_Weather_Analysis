{
 "cells": [
  {
   "cell_type": "markdown",
   "metadata": {},
   "source": [
    "## Deliverable 3. Create a Travel Itinerary Map."
   ]
  },
  {
   "cell_type": "code",
   "execution_count": 1,
   "metadata": {},
   "outputs": [],
   "source": [
    "# Dependencies and Setup\n",
    "import pandas as pd\n",
    "import requests\n",
    "import gmaps\n",
    "\n",
    "# Import API key\n",
    "from config import g_key\n",
    "\n",
    "# Configure gmaps\n",
    "gmaps.configure(api_key=g_key)"
   ]
  },
  {
   "cell_type": "code",
   "execution_count": 2,
   "metadata": {},
   "outputs": [
    {
     "data": {
      "text/html": [
       "<div>\n",
       "<style scoped>\n",
       "    .dataframe tbody tr th:only-of-type {\n",
       "        vertical-align: middle;\n",
       "    }\n",
       "\n",
       "    .dataframe tbody tr th {\n",
       "        vertical-align: top;\n",
       "    }\n",
       "\n",
       "    .dataframe thead th {\n",
       "        text-align: right;\n",
       "    }\n",
       "</style>\n",
       "<table border=\"1\" class=\"dataframe\">\n",
       "  <thead>\n",
       "    <tr style=\"text-align: right;\">\n",
       "      <th></th>\n",
       "      <th>City_ID</th>\n",
       "      <th>City</th>\n",
       "      <th>Country</th>\n",
       "      <th>Max Temp</th>\n",
       "      <th>Current Description</th>\n",
       "      <th>Lat</th>\n",
       "      <th>Lng</th>\n",
       "      <th>Hotel Name</th>\n",
       "    </tr>\n",
       "  </thead>\n",
       "  <tbody>\n",
       "    <tr>\n",
       "      <th>0</th>\n",
       "      <td>0</td>\n",
       "      <td>Auki</td>\n",
       "      <td>SB</td>\n",
       "      <td>78.64</td>\n",
       "      <td>scattered clouds</td>\n",
       "      <td>-8.7676</td>\n",
       "      <td>160.7034</td>\n",
       "      <td>Auki</td>\n",
       "    </tr>\n",
       "    <tr>\n",
       "      <th>1</th>\n",
       "      <td>3</td>\n",
       "      <td>Nishihara</td>\n",
       "      <td>JP</td>\n",
       "      <td>75.25</td>\n",
       "      <td>broken clouds</td>\n",
       "      <td>26.1842</td>\n",
       "      <td>127.7558</td>\n",
       "      <td>Naha</td>\n",
       "    </tr>\n",
       "    <tr>\n",
       "      <th>2</th>\n",
       "      <td>5</td>\n",
       "      <td>Kruisfontein</td>\n",
       "      <td>ZA</td>\n",
       "      <td>62.89</td>\n",
       "      <td>overcast clouds</td>\n",
       "      <td>-34.0033</td>\n",
       "      <td>24.7314</td>\n",
       "      <td>Humansdorp</td>\n",
       "    </tr>\n",
       "    <tr>\n",
       "      <th>3</th>\n",
       "      <td>6</td>\n",
       "      <td>Cape Town</td>\n",
       "      <td>ZA</td>\n",
       "      <td>64.81</td>\n",
       "      <td>few clouds</td>\n",
       "      <td>-33.9258</td>\n",
       "      <td>18.4232</td>\n",
       "      <td>Cape Town</td>\n",
       "    </tr>\n",
       "    <tr>\n",
       "      <th>4</th>\n",
       "      <td>8</td>\n",
       "      <td>Carnarvon</td>\n",
       "      <td>AU</td>\n",
       "      <td>64.47</td>\n",
       "      <td>scattered clouds</td>\n",
       "      <td>-24.8667</td>\n",
       "      <td>113.6333</td>\n",
       "      <td>Carnarvon</td>\n",
       "    </tr>\n",
       "  </tbody>\n",
       "</table>\n",
       "</div>"
      ],
      "text/plain": [
       "   City_ID          City Country  Max Temp Current Description      Lat  \\\n",
       "0        0          Auki      SB     78.64    scattered clouds  -8.7676   \n",
       "1        3     Nishihara      JP     75.25       broken clouds  26.1842   \n",
       "2        5  Kruisfontein      ZA     62.89     overcast clouds -34.0033   \n",
       "3        6     Cape Town      ZA     64.81          few clouds -33.9258   \n",
       "4        8     Carnarvon      AU     64.47    scattered clouds -24.8667   \n",
       "\n",
       "        Lng  Hotel Name  \n",
       "0  160.7034        Auki  \n",
       "1  127.7558        Naha  \n",
       "2   24.7314  Humansdorp  \n",
       "3   18.4232   Cape Town  \n",
       "4  113.6333   Carnarvon  "
      ]
     },
     "execution_count": 2,
     "metadata": {},
     "output_type": "execute_result"
    }
   ],
   "source": [
    "# 1. Read the WeatherPy_vacation.csv into a DataFrame.\n",
    "vacation_df = pd.read_csv(\"Vacation_Search/WeatherPy_vacation.csv\")\n",
    "vacation_df.head()"
   ]
  },
  {
   "cell_type": "code",
   "execution_count": 4,
   "metadata": {},
   "outputs": [],
   "source": [
    "# 2. Using the template add the city name, the country code, the weather description and maximum temperature for the city.\n",
    "info_box_template = \"\"\"\n",
    "<dl>\n",
    "<dt>Hotel Name</dt><dd>{Hotel Name}</dd>\n",
    "<dt>City</dt><dd>{City}</dd>\n",
    "<dt>Country</dt><dd>{Country}</dd>\n",
    "<dt>Current Description</dt><dd>{Current Description}</dd>\n",
    "<dt>Max Temp</dt><dd>{Max Temp} °F</dd>\n",
    "</dl>\n",
    "\"\"\"\n",
    "\n",
    "# 3a. Get the data from each row and add it to the formatting template and store the data in a list.\n",
    "hotel_info = [info_box_template.format(**row) for index, row in vacation_df.iterrows()]\n",
    "\n",
    "# 3b. Get the latitude and longitude from each row and store in a new DataFrame.\n",
    "locations = vacation_df[[\"Lat\", \"Lng\"]]"
   ]
  },
  {
   "cell_type": "code",
   "execution_count": 5,
   "metadata": {},
   "outputs": [
    {
     "data": {
      "application/vnd.jupyter.widget-view+json": {
       "model_id": "1505a66c45a44d148b4313a09f8a8fb8",
       "version_major": 2,
       "version_minor": 0
      },
      "text/plain": [
       "Figure(layout=FigureLayout(height='420px'))"
      ]
     },
     "metadata": {},
     "output_type": "display_data"
    }
   ],
   "source": [
    "# 4a. Add a marker layer for each city to the map.\n",
    "max_temp = vacation_df[\"Max Temp\"]\n",
    "fig = gmaps.figure(center=(30.0, 31.0), zoom_level=1.5)\n",
    "heat_layer = gmaps.heatmap_layer(locations, weights=max_temp,dissipating=False,\n",
    "             max_intensity=300, point_radius=4)\n",
    "marker_layer = gmaps.marker_layer(locations, info_box_content=hotel_info)\n",
    "fig.add_layer(heat_layer)\n",
    "fig.add_layer(marker_layer)\n",
    "\n",
    "# 4b. Display the figure\n",
    "fig\n"
   ]
  },
  {
   "cell_type": "code",
   "execution_count": 6,
   "metadata": {},
   "outputs": [
    {
     "data": {
      "text/html": [
       "<div>\n",
       "<style scoped>\n",
       "    .dataframe tbody tr th:only-of-type {\n",
       "        vertical-align: middle;\n",
       "    }\n",
       "\n",
       "    .dataframe tbody tr th {\n",
       "        vertical-align: top;\n",
       "    }\n",
       "\n",
       "    .dataframe thead th {\n",
       "        text-align: right;\n",
       "    }\n",
       "</style>\n",
       "<table border=\"1\" class=\"dataframe\">\n",
       "  <thead>\n",
       "    <tr style=\"text-align: right;\">\n",
       "      <th></th>\n",
       "      <th>City_ID</th>\n",
       "      <th>City</th>\n",
       "      <th>Country</th>\n",
       "      <th>Max Temp</th>\n",
       "      <th>Current Description</th>\n",
       "      <th>Lat</th>\n",
       "      <th>Lng</th>\n",
       "      <th>Hotel Name</th>\n",
       "    </tr>\n",
       "  </thead>\n",
       "  <tbody>\n",
       "    <tr>\n",
       "      <th>162</th>\n",
       "      <td>422</td>\n",
       "      <td>Sonoita</td>\n",
       "      <td>MX</td>\n",
       "      <td>79.54</td>\n",
       "      <td>clear sky</td>\n",
       "      <td>31.8500</td>\n",
       "      <td>-112.8333</td>\n",
       "      <td>Sonoyta</td>\n",
       "    </tr>\n",
       "    <tr>\n",
       "      <th>181</th>\n",
       "      <td>468</td>\n",
       "      <td>Guerrero Negro</td>\n",
       "      <td>MX</td>\n",
       "      <td>71.69</td>\n",
       "      <td>clear sky</td>\n",
       "      <td>27.9769</td>\n",
       "      <td>-114.0611</td>\n",
       "      <td>Guerrero Negro</td>\n",
       "    </tr>\n",
       "    <tr>\n",
       "      <th>186</th>\n",
       "      <td>477</td>\n",
       "      <td>Las Choapas</td>\n",
       "      <td>MX</td>\n",
       "      <td>77.05</td>\n",
       "      <td>overcast clouds</td>\n",
       "      <td>17.9333</td>\n",
       "      <td>-94.0833</td>\n",
       "      <td>Las Choapas</td>\n",
       "    </tr>\n",
       "    <tr>\n",
       "      <th>219</th>\n",
       "      <td>561</td>\n",
       "      <td>Ayutla</td>\n",
       "      <td>MX</td>\n",
       "      <td>75.20</td>\n",
       "      <td>scattered clouds</td>\n",
       "      <td>20.1167</td>\n",
       "      <td>-104.3333</td>\n",
       "      <td>Centro</td>\n",
       "    </tr>\n",
       "    <tr>\n",
       "      <th>224</th>\n",
       "      <td>577</td>\n",
       "      <td>Jimenez</td>\n",
       "      <td>MX</td>\n",
       "      <td>73.20</td>\n",
       "      <td>few clouds</td>\n",
       "      <td>28.3333</td>\n",
       "      <td>-105.4000</td>\n",
       "      <td>Arenillas</td>\n",
       "    </tr>\n",
       "    <tr>\n",
       "      <th>232</th>\n",
       "      <td>600</td>\n",
       "      <td>Monte Escobedo</td>\n",
       "      <td>MX</td>\n",
       "      <td>64.27</td>\n",
       "      <td>clear sky</td>\n",
       "      <td>22.3000</td>\n",
       "      <td>-103.5833</td>\n",
       "      <td>Monte Escobedo</td>\n",
       "    </tr>\n",
       "    <tr>\n",
       "      <th>234</th>\n",
       "      <td>603</td>\n",
       "      <td>San Quintin</td>\n",
       "      <td>MX</td>\n",
       "      <td>68.09</td>\n",
       "      <td>clear sky</td>\n",
       "      <td>30.4833</td>\n",
       "      <td>-115.9500</td>\n",
       "      <td>Lázaro Cárdenas</td>\n",
       "    </tr>\n",
       "  </tbody>\n",
       "</table>\n",
       "</div>"
      ],
      "text/plain": [
       "     City_ID            City Country  Max Temp Current Description      Lat  \\\n",
       "162      422         Sonoita      MX     79.54           clear sky  31.8500   \n",
       "181      468  Guerrero Negro      MX     71.69           clear sky  27.9769   \n",
       "186      477     Las Choapas      MX     77.05     overcast clouds  17.9333   \n",
       "219      561          Ayutla      MX     75.20    scattered clouds  20.1167   \n",
       "224      577         Jimenez      MX     73.20          few clouds  28.3333   \n",
       "232      600  Monte Escobedo      MX     64.27           clear sky  22.3000   \n",
       "234      603     San Quintin      MX     68.09           clear sky  30.4833   \n",
       "\n",
       "          Lng       Hotel Name  \n",
       "162 -112.8333          Sonoyta  \n",
       "181 -114.0611   Guerrero Negro  \n",
       "186  -94.0833      Las Choapas  \n",
       "219 -104.3333           Centro  \n",
       "224 -105.4000        Arenillas  \n",
       "232 -103.5833   Monte Escobedo  \n",
       "234 -115.9500  Lázaro Cárdenas  "
      ]
     },
     "execution_count": 6,
     "metadata": {},
     "output_type": "execute_result"
    }
   ],
   "source": [
    "# MEXICO.\n",
    "# Grab the hotel from the results and store\n",
    "mexico_vacation_df = vacation_df.loc[(vacation_df[\"Country\"] == \"MX\")]\n",
    "mexico_vacation_df.dropna()"
   ]
  },
  {
   "cell_type": "code",
   "execution_count": 7,
   "metadata": {},
   "outputs": [],
   "source": [
    "new_column_order = [\"City_ID\", \"City\", \"Country\", \"Lat\",\"Lng\", \"Max Temp\", \"Current Description\"]"
   ]
  },
  {
   "cell_type": "code",
   "execution_count": 8,
   "metadata": {},
   "outputs": [],
   "source": [
    "mexico_vacation_df = mexico_vacation_df[new_column_order]"
   ]
  },
  {
   "cell_type": "code",
   "execution_count": 12,
   "metadata": {},
   "outputs": [
    {
     "data": {
      "text/html": [
       "<div>\n",
       "<style scoped>\n",
       "    .dataframe tbody tr th:only-of-type {\n",
       "        vertical-align: middle;\n",
       "    }\n",
       "\n",
       "    .dataframe tbody tr th {\n",
       "        vertical-align: top;\n",
       "    }\n",
       "\n",
       "    .dataframe thead th {\n",
       "        text-align: right;\n",
       "    }\n",
       "</style>\n",
       "<table border=\"1\" class=\"dataframe\">\n",
       "  <thead>\n",
       "    <tr style=\"text-align: right;\">\n",
       "      <th></th>\n",
       "      <th>City_ID</th>\n",
       "      <th>City</th>\n",
       "      <th>Country</th>\n",
       "      <th>Lat</th>\n",
       "      <th>Lng</th>\n",
       "      <th>Max Temp</th>\n",
       "      <th>Current Description</th>\n",
       "    </tr>\n",
       "  </thead>\n",
       "  <tbody>\n",
       "    <tr>\n",
       "      <th>162</th>\n",
       "      <td>422</td>\n",
       "      <td>Sonoita</td>\n",
       "      <td>MX</td>\n",
       "      <td>31.8500</td>\n",
       "      <td>-112.8333</td>\n",
       "      <td>79.54</td>\n",
       "      <td>clear sky</td>\n",
       "    </tr>\n",
       "    <tr>\n",
       "      <th>181</th>\n",
       "      <td>468</td>\n",
       "      <td>Guerrero Negro</td>\n",
       "      <td>MX</td>\n",
       "      <td>27.9769</td>\n",
       "      <td>-114.0611</td>\n",
       "      <td>71.69</td>\n",
       "      <td>clear sky</td>\n",
       "    </tr>\n",
       "    <tr>\n",
       "      <th>186</th>\n",
       "      <td>477</td>\n",
       "      <td>Las Choapas</td>\n",
       "      <td>MX</td>\n",
       "      <td>17.9333</td>\n",
       "      <td>-94.0833</td>\n",
       "      <td>77.05</td>\n",
       "      <td>overcast clouds</td>\n",
       "    </tr>\n",
       "    <tr>\n",
       "      <th>219</th>\n",
       "      <td>561</td>\n",
       "      <td>Ayutla</td>\n",
       "      <td>MX</td>\n",
       "      <td>20.1167</td>\n",
       "      <td>-104.3333</td>\n",
       "      <td>75.20</td>\n",
       "      <td>scattered clouds</td>\n",
       "    </tr>\n",
       "    <tr>\n",
       "      <th>224</th>\n",
       "      <td>577</td>\n",
       "      <td>Jimenez</td>\n",
       "      <td>MX</td>\n",
       "      <td>28.3333</td>\n",
       "      <td>-105.4000</td>\n",
       "      <td>73.20</td>\n",
       "      <td>few clouds</td>\n",
       "    </tr>\n",
       "    <tr>\n",
       "      <th>232</th>\n",
       "      <td>600</td>\n",
       "      <td>Monte Escobedo</td>\n",
       "      <td>MX</td>\n",
       "      <td>22.3000</td>\n",
       "      <td>-103.5833</td>\n",
       "      <td>64.27</td>\n",
       "      <td>clear sky</td>\n",
       "    </tr>\n",
       "    <tr>\n",
       "      <th>234</th>\n",
       "      <td>603</td>\n",
       "      <td>San Quintin</td>\n",
       "      <td>MX</td>\n",
       "      <td>30.4833</td>\n",
       "      <td>-115.9500</td>\n",
       "      <td>68.09</td>\n",
       "      <td>clear sky</td>\n",
       "    </tr>\n",
       "  </tbody>\n",
       "</table>\n",
       "</div>"
      ],
      "text/plain": [
       "     City_ID            City Country      Lat       Lng  Max Temp  \\\n",
       "162      422         Sonoita      MX  31.8500 -112.8333     79.54   \n",
       "181      468  Guerrero Negro      MX  27.9769 -114.0611     71.69   \n",
       "186      477     Las Choapas      MX  17.9333  -94.0833     77.05   \n",
       "219      561          Ayutla      MX  20.1167 -104.3333     75.20   \n",
       "224      577         Jimenez      MX  28.3333 -105.4000     73.20   \n",
       "232      600  Monte Escobedo      MX  22.3000 -103.5833     64.27   \n",
       "234      603     San Quintin      MX  30.4833 -115.9500     68.09   \n",
       "\n",
       "    Current Description  \n",
       "162           clear sky  \n",
       "181           clear sky  \n",
       "186     overcast clouds  \n",
       "219    scattered clouds  \n",
       "224          few clouds  \n",
       "232           clear sky  \n",
       "234           clear sky  "
      ]
     },
     "execution_count": 12,
     "metadata": {},
     "output_type": "execute_result"
    }
   ],
   "source": [
    "mexico_vacation_df"
   ]
  },
  {
   "cell_type": "code",
   "execution_count": 14,
   "metadata": {},
   "outputs": [
    {
     "name": "stdout",
     "output_type": "stream",
     "text": [
      "What is your Starting City_ID from MX List you would like for your trip? 477\n",
      "What is your First Stop City_ID from MX List you would like for your trip? 561\n",
      "What is your Second Stop City_ID from MX List you would like for your trip? 600\n",
      "What is your Third Stop City_ID from MX List you would like for your trip? 577\n",
      "What is your Last City_ID from MX List you would like for your trip? 603\n",
      "Your Starting Destination is Ayutla, MX\n",
      "Your Frist Stop is Monte Escobedo, MX\n",
      "Your Second Stop is Jimenez, MX\n",
      "Your Thirth Stop is San Quintin, MX\n",
      "Your Last Stop in your vacation is Sonoita, MX\n"
     ]
    }
   ],
   "source": [
    "# From the map above pick 4 cities and create a vacation itinerary route to travel between the four cities. \n",
    "# 5. Create DataFrames for each city by filtering the 'vacation_df' using the loc method. \n",
    "# Hint: The starting and ending city should be the same city.\n",
    "\n",
    "#Picking our 4 cities\n",
    "start = float(input(\"What is your Starting City_ID from MX List you would like for your trip? \"))\n",
    "stop1 = float(input(\"What is your First Stop City_ID from MX List you would like for your trip? \"))\n",
    "stop2 = float(input(\"What is your Second Stop City_ID from MX List you would like for your trip? \"))\n",
    "stop3 = float(input(\"What is your Third Stop City_ID from MX List you would like for your trip? \"))\n",
    "end = float(input(\"What is your Last City_ID from MX List you would like for your trip? \"))\n",
    "\n",
    "#Start\n",
    "vacation_start = mexico_vacation_df.loc[(mexico_vacation_df[\"City_ID\"] == stop1)]\n",
    "vacation_start = vacation_start.iloc[0]\n",
    "\n",
    "#City 1\n",
    "vacation_stop1 = mexico_vacation_df.loc[(mexico_vacation_df[\"City_ID\"] == stop2)]\n",
    "vacation_stop1 = vacation_stop1.iloc[0]\n",
    "\n",
    "#City 2\n",
    "vacation_stop2 = mexico_vacation_df.loc[(mexico_vacation_df[\"City_ID\"] == stop3)]\n",
    "vacation_stop2 = vacation_stop2.iloc[0]\n",
    "\n",
    "#City 3\n",
    "vacation_stop3 = mexico_vacation_df.loc[(mexico_vacation_df[\"City_ID\"] == end)]\n",
    "vacation_stop3 = vacation_stop3.iloc[0]\n",
    "\n",
    "#City 4\n",
    "vacation_end = mexico_vacation_df.loc[(mexico_vacation_df[\"City_ID\"] <= end)]\n",
    "vacation_end = vacation_end.iloc[0] \n",
    "\n",
    "#Display Stops/Destinations\n",
    "print(\"Your Starting Destination is \" + vacation_start[\"City\"] + \", \" + vacation_start[\"Country\"])\n",
    "print(\"Your Frist Stop is \" + vacation_stop1[\"City\"] + \", \" + vacation_stop1[\"Country\"])\n",
    "print(\"Your Second Stop is \" + vacation_stop2[\"City\"] + \", \" + vacation_stop2[\"Country\"])                                     \n",
    "print(\"Your Thirth Stop is \" + vacation_stop3[\"City\"] + \", \" + vacation_stop3[\"Country\"])                                     \n",
    "print(\"Your Last Stop in your vacation is \" + vacation_end[\"City\"] + \", \" + vacation_end[\"Country\"])"
   ]
  },
  {
   "cell_type": "code",
   "execution_count": 15,
   "metadata": {},
   "outputs": [],
   "source": [
    "# 6. Get the latitude-longitude pairs as tuples from each city DataFrame using the to_numpy function and list indexing.\n",
    "start = vacation_start[[\"Lat\", \"Lng\"]] \n",
    "end = vacation_end[[\"Lat\", \"Lng\"]] \n",
    "stop1 = vacation_stop1[[\"Lat\", \"Lng\"]] \n",
    "stop2 = vacation_stop2[[\"Lat\", \"Lng\"]]\n",
    "stop3 = vacation_stop3[[\"Lat\", \"Lng\"]]"
   ]
  },
  {
   "cell_type": "code",
   "execution_count": 16,
   "metadata": {},
   "outputs": [
    {
     "name": "stdout",
     "output_type": "stream",
     "text": [
      "Lat     20.1167\n",
      "Lng   -104.3333\n",
      "Name: 219, dtype: object\n"
     ]
    }
   ],
   "source": [
    "print(start)"
   ]
  },
  {
   "cell_type": "code",
   "execution_count": 17,
   "metadata": {},
   "outputs": [
    {
     "name": "stdout",
     "output_type": "stream",
     "text": [
      "Lat        22.3\n",
      "Lng   -103.5833\n",
      "Name: 232, dtype: object\n"
     ]
    }
   ],
   "source": [
    "print(stop1)"
   ]
  },
  {
   "cell_type": "code",
   "execution_count": 18,
   "metadata": {},
   "outputs": [
    {
     "name": "stdout",
     "output_type": "stream",
     "text": [
      "Lat    28.3333\n",
      "Lng     -105.4\n",
      "Name: 224, dtype: object\n"
     ]
    }
   ],
   "source": [
    "print(stop2)"
   ]
  },
  {
   "cell_type": "code",
   "execution_count": 19,
   "metadata": {},
   "outputs": [
    {
     "name": "stdout",
     "output_type": "stream",
     "text": [
      "Lat    30.4833\n",
      "Lng    -115.95\n",
      "Name: 234, dtype: object\n"
     ]
    }
   ],
   "source": [
    "print(stop3)"
   ]
  },
  {
   "cell_type": "code",
   "execution_count": 20,
   "metadata": {},
   "outputs": [
    {
     "name": "stdout",
     "output_type": "stream",
     "text": [
      "Lat       31.85\n",
      "Lng   -112.8333\n",
      "Name: 162, dtype: object\n"
     ]
    }
   ],
   "source": [
    "print(end)"
   ]
  },
  {
   "cell_type": "code",
   "execution_count": 21,
   "metadata": {
    "scrolled": true
   },
   "outputs": [
    {
     "data": {
      "application/vnd.jupyter.widget-view+json": {
       "model_id": "c85a4d92c2b940f9b8e8b478eeaab80b",
       "version_major": 2,
       "version_minor": 0
      },
      "text/plain": [
       "Figure(layout=FigureLayout(height='420px'))"
      ]
     },
     "metadata": {},
     "output_type": "display_data"
    }
   ],
   "source": [
    "# 7. Create a direction layer map using the start and end latitude-longitude pairs,\n",
    "# and stop1, stop2, and stop3 as the waypoints. The travel_mode should be \"DRIVING\", \"BICYCLING\", or \"WALKING\".\n",
    "\n",
    "import gmaps\n",
    "import gmaps.datasets\n",
    "gmaps.configure(api_key=g_key)\n",
    "\n",
    "start = (20.1167, -104.3333)\n",
    "stop1 = (22.3, -103.5833)\n",
    "stop2 = (28.3333, -105.4)\n",
    "stop3 = (30.4833, -112.8333)\n",
    "end = (31.85, -116.07)\n",
    "\n",
    "fig = gmaps.figure()\n",
    "sart2end_via_stops = gmaps.directions_layer(\n",
    "        start, end, waypoints=[stop1, stop2, stop3],\n",
    "        travel_mode='DRIVING')\n",
    "fig.add_layer(sart2end_via_stops)\n",
    "fig"
   ]
  },
  {
   "cell_type": "code",
   "execution_count": 22,
   "metadata": {},
   "outputs": [
    {
     "data": {
      "text/html": [
       "<div>\n",
       "<style scoped>\n",
       "    .dataframe tbody tr th:only-of-type {\n",
       "        vertical-align: middle;\n",
       "    }\n",
       "\n",
       "    .dataframe tbody tr th {\n",
       "        vertical-align: top;\n",
       "    }\n",
       "\n",
       "    .dataframe thead th {\n",
       "        text-align: right;\n",
       "    }\n",
       "</style>\n",
       "<table border=\"1\" class=\"dataframe\">\n",
       "  <thead>\n",
       "    <tr style=\"text-align: right;\">\n",
       "      <th></th>\n",
       "      <th>City_ID</th>\n",
       "      <th>City</th>\n",
       "      <th>Country</th>\n",
       "      <th>Lat</th>\n",
       "      <th>Lng</th>\n",
       "      <th>Max Temp</th>\n",
       "      <th>Current Description</th>\n",
       "    </tr>\n",
       "  </thead>\n",
       "  <tbody>\n",
       "    <tr>\n",
       "      <th>0</th>\n",
       "      <td>422</td>\n",
       "      <td>Sonoita</td>\n",
       "      <td>MX</td>\n",
       "      <td>31.8500</td>\n",
       "      <td>-112.8333</td>\n",
       "      <td>79.54</td>\n",
       "      <td>clear sky</td>\n",
       "    </tr>\n",
       "    <tr>\n",
       "      <th>1</th>\n",
       "      <td>468</td>\n",
       "      <td>Guerrero Negro</td>\n",
       "      <td>MX</td>\n",
       "      <td>27.9769</td>\n",
       "      <td>-114.0611</td>\n",
       "      <td>71.69</td>\n",
       "      <td>clear sky</td>\n",
       "    </tr>\n",
       "    <tr>\n",
       "      <th>2</th>\n",
       "      <td>477</td>\n",
       "      <td>Las Choapas</td>\n",
       "      <td>MX</td>\n",
       "      <td>17.9333</td>\n",
       "      <td>-94.0833</td>\n",
       "      <td>77.05</td>\n",
       "      <td>overcast clouds</td>\n",
       "    </tr>\n",
       "    <tr>\n",
       "      <th>3</th>\n",
       "      <td>561</td>\n",
       "      <td>Ayutla</td>\n",
       "      <td>MX</td>\n",
       "      <td>20.1167</td>\n",
       "      <td>-104.3333</td>\n",
       "      <td>75.20</td>\n",
       "      <td>scattered clouds</td>\n",
       "    </tr>\n",
       "    <tr>\n",
       "      <th>4</th>\n",
       "      <td>577</td>\n",
       "      <td>Jimenez</td>\n",
       "      <td>MX</td>\n",
       "      <td>28.3333</td>\n",
       "      <td>-105.4000</td>\n",
       "      <td>73.20</td>\n",
       "      <td>few clouds</td>\n",
       "    </tr>\n",
       "    <tr>\n",
       "      <th>5</th>\n",
       "      <td>600</td>\n",
       "      <td>Monte Escobedo</td>\n",
       "      <td>MX</td>\n",
       "      <td>22.3000</td>\n",
       "      <td>-103.5833</td>\n",
       "      <td>64.27</td>\n",
       "      <td>clear sky</td>\n",
       "    </tr>\n",
       "    <tr>\n",
       "      <th>6</th>\n",
       "      <td>603</td>\n",
       "      <td>San Quintin</td>\n",
       "      <td>MX</td>\n",
       "      <td>30.4833</td>\n",
       "      <td>-115.9500</td>\n",
       "      <td>68.09</td>\n",
       "      <td>clear sky</td>\n",
       "    </tr>\n",
       "  </tbody>\n",
       "</table>\n",
       "</div>"
      ],
      "text/plain": [
       "   City_ID            City Country      Lat       Lng  Max Temp  \\\n",
       "0      422         Sonoita      MX  31.8500 -112.8333     79.54   \n",
       "1      468  Guerrero Negro      MX  27.9769 -114.0611     71.69   \n",
       "2      477     Las Choapas      MX  17.9333  -94.0833     77.05   \n",
       "3      561          Ayutla      MX  20.1167 -104.3333     75.20   \n",
       "4      577         Jimenez      MX  28.3333 -105.4000     73.20   \n",
       "5      600  Monte Escobedo      MX  22.3000 -103.5833     64.27   \n",
       "6      603     San Quintin      MX  30.4833 -115.9500     68.09   \n",
       "\n",
       "  Current Description  \n",
       "0           clear sky  \n",
       "1           clear sky  \n",
       "2     overcast clouds  \n",
       "3    scattered clouds  \n",
       "4          few clouds  \n",
       "5           clear sky  \n",
       "6           clear sky  "
      ]
     },
     "execution_count": 22,
     "metadata": {},
     "output_type": "execute_result"
    }
   ],
   "source": [
    "# 8. To create a marker layer map between the four cities.\n",
    "#  Combine the four city DataFrames into one DataFrame using the concat() function.\n",
    "#itinerary_df = pd.concat([],ignore_index=True)\n",
    "#itinerary_df\n",
    "\n",
    "mexico_vacation_df = pd.concat([mexico_vacation_df],ignore_index=True)\n",
    "mexico_vacation_df"
   ]
  },
  {
   "cell_type": "code",
   "execution_count": 25,
   "metadata": {},
   "outputs": [],
   "source": [
    "# 9 Using the template add city name, the country code, the weather description and maximum temperature for the city. \n",
    "info_box_template = \"\"\"\n",
    "<dl>\n",
    "<dt>City</dt><dd>{City}</dd>\n",
    "<dt>Country</dt><dd>{Country}</dd>\n",
    "<dt>Current Description</dt><dd>{Current Description}</dd>\n",
    "<dt>Max Temp</dt><dd>{Max Temp} °F</dd>\n",
    "\"\"\"\n",
    "\n",
    "# 10a Get the data from each row and add it to the formatting template and store the data in a list.\n",
    "hotel_info = [info_box_template.format(**row) for index, row in mexico_vacation_df.iterrows()]\n",
    "\n",
    "# 10b. Get the latitude and longitude from each row and store in a new DataFrame.\n",
    "locations = mexico_vacation_df[[\"Lat\", \"Lng\"]]"
   ]
  },
  {
   "cell_type": "code",
   "execution_count": 27,
   "metadata": {},
   "outputs": [
    {
     "data": {
      "application/vnd.jupyter.widget-view+json": {
       "model_id": "618ad0b9e7214f338ec112ab7ec5e499",
       "version_major": 2,
       "version_minor": 0
      },
      "text/plain": [
       "Figure(layout=FigureLayout(height='420px'))"
      ]
     },
     "metadata": {},
     "output_type": "display_data"
    }
   ],
   "source": [
    "# 11a. Add a marker layer for each city to the map.\n",
    "city_mark = mexico_vacation_df[\"City\"]\n",
    "fig = gmaps.figure(center=(30.0, 31.0), zoom_level=1.5)\n",
    "marker_layer = gmaps.marker_layer(locations, info_box_content=hotel_info)\n",
    "\n",
    "fig.add_layer(marker_layer)\n",
    "\n",
    "# 11b. Display the figure\n",
    "fig"
   ]
  },
  {
   "cell_type": "code",
   "execution_count": null,
   "metadata": {},
   "outputs": [],
   "source": []
  }
 ],
 "metadata": {
  "kernelspec": {
   "display_name": "PythonData",
   "language": "python",
   "name": "pythondata"
  },
  "language_info": {
   "codemirror_mode": {
    "name": "ipython",
    "version": 3
   },
   "file_extension": ".py",
   "mimetype": "text/x-python",
   "name": "python",
   "nbconvert_exporter": "python",
   "pygments_lexer": "ipython3",
   "version": "3.7.10"
  },
  "latex_envs": {
   "LaTeX_envs_menu_present": true,
   "autoclose": false,
   "autocomplete": true,
   "bibliofile": "biblio.bib",
   "cite_by": "apalike",
   "current_citInitial": 1,
   "eqLabelWithNumbers": true,
   "eqNumInitial": 1,
   "hotkeys": {
    "equation": "Ctrl-E",
    "itemize": "Ctrl-I"
   },
   "labels_anchors": false,
   "latex_user_defs": false,
   "report_style_numbering": false,
   "user_envs_cfg": false
  }
 },
 "nbformat": 4,
 "nbformat_minor": 2
}
